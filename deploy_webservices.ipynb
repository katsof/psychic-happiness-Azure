{
 "cells": [
  {
   "cell_type": "code",
   "execution_count": null,
   "id": "89cbf9e3-b6e5-4b66-95d1-6cda92443801",
   "metadata": {},
   "outputs": [],
   "source": [
    "import joblib\n",
    "\n",
    "def init():\n",
    "    global ref_cols, predictor\n",
    "    model_path = Model.get_model_path('AdultincomeModels')\n",
    "    ref_cols, predictors = joblib.load(model_path)\n",
    "    \n",
    "def run(raw_data):\n",
    "    \n",
    "    data_dict = json.loads(raw_data)['data']\n",
    "    data = pd.DataFrame.from_dict(data_dict)\n",
    "    \n",
    "    data_enc = pd.get_dummies(data)\n",
    "    \n",
    "    deploy_cols = data_enc.columns\n",
    "    \n",
    "    missing_cols = ref_cols.difference(deploy_cols)\n",
    "    \n",
    "    for cols in missing_cols:\n",
    "        data_enc[cols] = 0 \n",
    "        \n",
    "    data_enc = data_enc[ref_cols]\n",
    "    \n",
    "    predictions = predictor.predict(data_enc)\n",
    "    \n",
    "    classes = [ 'Less than 50k', 'Greater than 50k' ] \n",
    "    \n",
    "    predicted_classes\n",
    "    \n",
    "    for prediction in predictions:\n",
    "        predicted_classes.append(classes[prediction])\n",
    "        \n",
    "    return json.dumps(predicted_classes)\n",
    "        \n",
    "    \n",
    "    "
   ]
  }
 ],
 "metadata": {
  "kernelspec": {
   "display_name": "Python 3 (ipykernel)",
   "language": "python",
   "name": "python3"
  },
  "language_info": {
   "codemirror_mode": {
    "name": "ipython",
    "version": 3
   },
   "file_extension": ".py",
   "mimetype": "text/x-python",
   "name": "python",
   "nbconvert_exporter": "python",
   "pygments_lexer": "ipython3",
   "version": "3.9.7"
  }
 },
 "nbformat": 4,
 "nbformat_minor": 5
}
