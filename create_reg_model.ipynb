{
 "cells": [
  {
   "cell_type": "code",
   "execution_count": 2,
   "id": "7d2c2d69-e3fe-4d95-9f54-c8954d892501",
   "metadata": {},
   "outputs": [
    {
     "name": "stdout",
     "output_type": "stream",
     "text": [
      "Accessing the workspace....\n",
      "Accessing the dataset....\n",
      "Accessing/Creating the experiment...\n",
      "Start Experiment using Start Logging method...\n",
      "Loading the dataset to pandas dataframe...\n"
     ]
    },
    {
     "data": {
      "text/plain": [
       "[Run(Experiment: Webservice-exp001,\n",
       " Id: 79ccabd9-2196-4f89-9f7a-acae06b8c46d,\n",
       " Type: None,\n",
       " Status: Completed)]"
      ]
     },
     "execution_count": 2,
     "metadata": {},
     "output_type": "execute_result"
    }
   ],
   "source": [
    "# This script will submit the experiment run to the \n",
    "# local compute target and create the pkl files for\n",
    "# column index object as well as the trained model.\n",
    "# -----------------------------------------------------\n",
    "\n",
    "# -----------------------------------------------------\n",
    "# Import required classes from Azureml\n",
    "# -----------------------------------------------------\n",
    "from azureml.core import Workspace, Dataset, Experiment\n",
    "\n",
    "\n",
    "\n",
    "# -----------------------------------------------------\n",
    "# Access the Workspace and Datasets\n",
    "# -----------------------------------------------------\n",
    "print('Accessing the workspace....')\n",
    "ws                = Workspace.from_config(\"./config\")\n",
    "\n",
    "print('Accessing the dataset....')\n",
    "az_dataset        = Dataset.get_by_name(ws, 'AdultIncome')\n",
    "\n",
    "\n",
    "\n",
    "# -----------------------------------------------------\n",
    "# Create/Access an experiment object\n",
    "# -----------------------------------------------------\n",
    "print('Accessing/Creating the experiment...')\n",
    "experiment = Experiment(workspace=ws, name='Webservice-exp001')\n",
    "\n",
    "\n",
    "\n",
    "# -----------------------------------------------------\n",
    "# Run an experiment using start_logging method\n",
    "# -----------------------------------------------------\n",
    "print('Start Experiment using Start Logging method...')\n",
    "new_run = experiment.start_logging()\n",
    "\n",
    "\n",
    "\n",
    "# --------------------------------------------------------\n",
    "# Do your stuff here\n",
    "# --------------------------------------------------------\n",
    "import pandas as pd\n",
    "\n",
    "# Load the data from the local files\n",
    "print('Loading the dataset to pandas dataframe...')\n",
    "df = az_dataset.to_pandas_dataframe()\n",
    "\n",
    "\n",
    "# Create X and Y Variables\n",
    "X = df.iloc[:, :-1]\n",
    "Y = df.iloc[:, -1:]\n",
    "\n",
    "\n",
    "# Create dummy variables\n",
    "X = pd.get_dummies(X)\n",
    "\n",
    "\n",
    "# Extract column names including dummy variables\n",
    "train_enc_cols = X.columns\n",
    "\n",
    "\n",
    "# Transform Categorical columns in Y dataset to dummy\n",
    "Y = pd.get_dummies(Y)\n",
    "Y = Y.iloc[:,-1]\n",
    "\n",
    "\n",
    "# Split Data - X and Y datasets are training and testing sets\n",
    "from sklearn.model_selection import train_test_split\n",
    "\n",
    "X_train, X_test, Y_train, Y_test = \\\n",
    "train_test_split(X, Y, test_size = 0.3, random_state = 1234, stratify=Y)\n",
    "\n",
    "\n",
    "# Build the Random Forest model\n",
    "from sklearn.ensemble import RandomForestClassifier\n",
    "\n",
    "rfc = RandomForestClassifier(random_state=1234)\n",
    "\n",
    "\n",
    "# Fit the data to the Random Forest object - Train Model\n",
    "trained_model = rfc.fit(X_train, Y_train)\n",
    "\n",
    "\n",
    "# Predict the outcome using Test data - Score Model \n",
    "Y_predict = rfc.predict(X_test)\n",
    "\n",
    "# Get the probability score - Scored Probabilities\n",
    "Y_prob = rfc.predict_proba(X_test)[:, 1]\n",
    "\n",
    "# Get Confusion matrix and the accuracy/score - Evaluate\n",
    "from sklearn.metrics import confusion_matrix\n",
    "cm    = confusion_matrix(Y_test, Y_predict)\n",
    "score = rfc.score(X_test, Y_test)\n",
    "\n",
    "\n",
    "# Always log the primary metric\n",
    "new_run.log(\"accuracy\", score)\n",
    "\n",
    "\n",
    "# -------------------------------------------------------\n",
    "# Save all the transformations and models\n",
    "# -------------------------------------------------------\n",
    "import joblib\n",
    "model_file = './outputs/models.pkl'\n",
    "\n",
    "joblib.dump(value=[train_enc_cols, trained_model], \n",
    "            filename=model_file)\n",
    "\n",
    "\n",
    "# Complete the run\n",
    "new_run.complete()\n",
    "\n",
    "\n",
    "# Get the Run IDs from the experiment\n",
    "list(experiment.get_runs())\n",
    "\n",
    "\n",
    "\n",
    "\n",
    "\n"
   ]
  },
  {
   "cell_type": "code",
   "execution_count": null,
   "id": "e9e3dbab-dde9-413e-b42e-48ca77645609",
   "metadata": {},
   "outputs": [],
   "source": [
    "#79ccabd9-2196-4f89-9f7a-acae06b8c46d"
   ]
  },
  {
   "cell_type": "code",
   "execution_count": 3,
   "id": "08acf11a-21cf-469d-83a1-c9d646849a60",
   "metadata": {},
   "outputs": [],
   "source": [
    "new_run = ws.get_run('79ccabd9-2196-4f89-9f7a-acae06b8c46d')"
   ]
  },
  {
   "cell_type": "code",
   "execution_count": 4,
   "id": "d4feb91b-d14e-484c-9fdf-686dc1aa10a9",
   "metadata": {},
   "outputs": [
    {
     "data": {
      "text/plain": [
       "Model(workspace=Workspace.create(name='my-ml-workspace', subscription_id='b1e9d77a-82fa-47dc-addb-d917728f82c4', resource_group='resourcegroup_auto_ml'), name=AdultIncome, id=AdultIncome:1, version=1, tags={'source': 'SDK_run'}, properties={})"
      ]
     },
     "execution_count": 4,
     "metadata": {},
     "output_type": "execute_result"
    }
   ],
   "source": [
    "new_run.register_model(model_name = 'AdultIncome', model_path = 'outputs/models.pkl',\n",
    "                      tags = {'source' : 'SDK_run'},\n",
    "                      description = 'early_model')"
   ]
  },
  {
   "cell_type": "code",
   "execution_count": null,
   "id": "8a9da799-7afa-4607-83a2-ec5c7cbd479c",
   "metadata": {},
   "outputs": [],
   "source": []
  }
 ],
 "metadata": {
  "kernelspec": {
   "display_name": "Python 3 (ipykernel)",
   "language": "python",
   "name": "python3"
  },
  "language_info": {
   "codemirror_mode": {
    "name": "ipython",
    "version": 3
   },
   "file_extension": ".py",
   "mimetype": "text/x-python",
   "name": "python",
   "nbconvert_exporter": "python",
   "pygments_lexer": "ipython3",
   "version": "3.9.7"
  }
 },
 "nbformat": 4,
 "nbformat_minor": 5
}
