{
 "cells": [
  {
   "cell_type": "code",
   "execution_count": 9,
   "id": "1e5bfab1-587e-4204-b1d0-6f55ef5c773b",
   "metadata": {},
   "outputs": [],
   "source": [
    "from azureml.core import Workspace, Experiment, ScriptRunConfig, Datastore, Dataset\n",
    "from azureml.core import Run\n"
   ]
  },
  {
   "cell_type": "code",
   "execution_count": 13,
   "id": "da35f1db-5257-4a19-aaee-d9c262d93f57",
   "metadata": {},
   "outputs": [],
   "source": [
    "ws = Workspace.from_config()\n",
    "az_store = Datastore.get(ws, 'azure_blob_datastore')\n",
    "\n",
    "\n",
    "csv_path = [(az_store, 'data/defaults.csv')]\n",
    "\n",
    "defaults_dataset = Dataset.Tabular.from_delimited_files(path = csv_path)\n",
    "\n",
    "az_dataset = defaults_dataset.register(workspace = ws,\n",
    "                                         name = 'Loans',\n",
    "                                         create_new_version = True)\n",
    "\n",
    "\n",
    "az_default_store = ws.get_default_datastore()"
   ]
  },
  {
   "cell_type": "code",
   "execution_count": 14,
   "id": "cad8ba00-3f41-4b32-b1bf-fca4031a9b58",
   "metadata": {},
   "outputs": [],
   "source": [
    "new_experiment = Experiment(workspace = ws,\n",
    "                            name = 'Loan_script')\n"
   ]
  },
  {
   "cell_type": "code",
   "execution_count": 15,
   "id": "41d0415a-d066-4449-9b06-2a1ce993df47",
   "metadata": {},
   "outputs": [
    {
     "data": {
      "text/plain": [
       "{\n",
       "    \"assetId\": \"azureml://locations/eastus/workspaces/183c78d2-b80e-4315-97ae-5a8064eb29dd/environments/MyEnvironment/versions/1\",\n",
       "    \"databricks\": {\n",
       "        \"eggLibraries\": [],\n",
       "        \"jarLibraries\": [],\n",
       "        \"mavenLibraries\": [],\n",
       "        \"pypiLibraries\": [],\n",
       "        \"rcranLibraries\": []\n",
       "    },\n",
       "    \"docker\": {\n",
       "        \"arguments\": [],\n",
       "        \"baseDockerfile\": null,\n",
       "        \"baseImage\": \"mcr.microsoft.com/azureml/openmpi4.1.0-ubuntu20.04:20220708.v1\",\n",
       "        \"baseImageRegistry\": {\n",
       "            \"address\": null,\n",
       "            \"password\": null,\n",
       "            \"registryIdentity\": null,\n",
       "            \"username\": null\n",
       "        },\n",
       "        \"buildContext\": null,\n",
       "        \"enabled\": false,\n",
       "        \"platform\": {\n",
       "            \"architecture\": \"amd64\",\n",
       "            \"os\": \"Linux\"\n",
       "        },\n",
       "        \"sharedVolumes\": true,\n",
       "        \"shmSize\": null\n",
       "    },\n",
       "    \"environmentVariables\": {\n",
       "        \"EXAMPLE_ENV_VAR\": \"EXAMPLE_VALUE\"\n",
       "    },\n",
       "    \"inferencingStackVersion\": null,\n",
       "    \"name\": \"MyEnvironment\",\n",
       "    \"python\": {\n",
       "        \"baseCondaEnvironment\": null,\n",
       "        \"condaDependencies\": {\n",
       "            \"channels\": [\n",
       "                \"anaconda\",\n",
       "                \"conda-forge\"\n",
       "            ],\n",
       "            \"dependencies\": [\n",
       "                \"python=3.8.13\",\n",
       "                {\n",
       "                    \"pip\": [\n",
       "                        \"azureml-defaults~=1.44.0\"\n",
       "                    ]\n",
       "                },\n",
       "                \"pandas\",\n",
       "                \"scikit-learn\"\n",
       "            ],\n",
       "            \"name\": \"project_environment\"\n",
       "        },\n",
       "        \"condaDependenciesFile\": null,\n",
       "        \"interpreterPath\": \"python\",\n",
       "        \"userManagedDependencies\": false\n",
       "    },\n",
       "    \"r\": null,\n",
       "    \"spark\": {\n",
       "        \"packages\": [],\n",
       "        \"precachePackages\": true,\n",
       "        \"repositories\": []\n",
       "    },\n",
       "    \"version\": \"1\"\n",
       "}"
      ]
     },
     "execution_count": 15,
     "metadata": {},
     "output_type": "execute_result"
    }
   ],
   "source": [
    "\n",
    "from azureml.core import Environment \n",
    "from azureml.core.environment import CondaDependencies\n",
    "myenv = Environment(name = 'MyEnvironment')\n",
    "\n",
    "myenv_dep = CondaDependencies.create(conda_packages = ['pandas','scikit-learn'])\n",
    "myenv.python.conda_dependencies = myenv_dep\n",
    "\n",
    "myenv.register(ws)\n",
    "\n"
   ]
  },
  {
   "cell_type": "code",
   "execution_count": 16,
   "id": "2f5a1f42-645a-450a-980d-1f398ffc595d",
   "metadata": {},
   "outputs": [],
   "source": [
    "script_config = ScriptRunConfig(source_directory = '.',\n",
    "                               script = 'submit3.py',\n",
    "                               environment = myenv)"
   ]
  },
  {
   "cell_type": "code",
   "execution_count": 17,
   "id": "23aacd2a-b39c-49ee-be29-a11e24886bae",
   "metadata": {},
   "outputs": [],
   "source": [
    "new_run = new_experiment.submit(config = script_config)"
   ]
  },
  {
   "cell_type": "code",
   "execution_count": 19,
   "id": "538b74bb-0b5e-4871-9a4a-ec4b2c0f579f",
   "metadata": {},
   "outputs": [
    {
     "data": {
      "text/plain": [
       "[Run(Experiment: Loan_script,\n",
       " Id: Loan_script_1660778947_63fe4e28,\n",
       " Type: azureml.scriptrun,\n",
       " Status: Completed)]"
      ]
     },
     "execution_count": 19,
     "metadata": {},
     "output_type": "execute_result"
    }
   ],
   "source": [
    "list(new_experiment.get_runs())"
   ]
  },
  {
   "cell_type": "code",
   "execution_count": null,
   "id": "79f09fe9-317e-4998-9987-325779446f05",
   "metadata": {},
   "outputs": [],
   "source": []
  }
 ],
 "metadata": {
  "kernelspec": {
   "display_name": "Python 3 (ipykernel)",
   "language": "python",
   "name": "python3"
  },
  "language_info": {
   "codemirror_mode": {
    "name": "ipython",
    "version": 3
   },
   "file_extension": ".py",
   "mimetype": "text/x-python",
   "name": "python",
   "nbconvert_exporter": "python",
   "pygments_lexer": "ipython3",
   "version": "3.9.7"
  }
 },
 "nbformat": 4,
 "nbformat_minor": 5
}
