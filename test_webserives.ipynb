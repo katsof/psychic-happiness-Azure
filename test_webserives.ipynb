{
 "cells": [
  {
   "cell_type": "code",
   "execution_count": 9,
   "id": "ae98d2d9-a17c-42f2-ad5a-4c767c9db0ce",
   "metadata": {},
   "outputs": [
    {
     "name": "stdout",
     "output_type": "stream",
     "text": [
      "Accessing the workspace....\n",
      "Accessing the service end-points\n",
      "data-prepped\n"
     ]
    }
   ],
   "source": [
    "# Import the Azure ML classes\n",
    "from azureml.core import Workspace\n",
    "\n",
    "# Access the workspace using config file\n",
    "print(\"Accessing the workspace....\")\n",
    "ws = Workspace.from_config()\n",
    "\n",
    "\n",
    "# Access the service end points\n",
    "print(\"Accessing the service end-points\")\n",
    "service = ws.webservices['adultincome-service']\n",
    "\n",
    "\n",
    "# Prepare the input data\n",
    "import json\n",
    "\n",
    "x_new = {'age':[20],\n",
    "         'wc':['Private'],\n",
    "         'education':['HS-Grad'],\n",
    "         'marital status':['Married'],\n",
    "         'race':['White'],\n",
    "         'gender':['Male'],\n",
    "         'hours per week':[60]}\n",
    "print('data-prepped')"
   ]
  },
  {
   "cell_type": "code",
   "execution_count": 10,
   "id": "5d7d2768-c056-4cfe-b874-ca151d69e32e",
   "metadata": {},
   "outputs": [
    {
     "name": "stdout",
     "output_type": "stream",
     "text": [
      "Calling the service...\n",
      "Printing the predicted class...\n",
      "\n",
      " ['Less Than 50K']\n"
     ]
    }
   ],
   "source": [
    "# Convert the dictionary to a serializable list in json\n",
    "json_data = json.dumps({\"data\": x_new})\n",
    "\n",
    "# Call the web service\n",
    "print(\"Calling the service...\")\n",
    "response = service.run(input_data = json_data)\n",
    "\n",
    "# Collect and convert the response in local variable\n",
    "print(\"Printing the predicted class...\")\n",
    "predicted_classes = json.loads(response)\n",
    "\n",
    "print('\\n', predicted_classes)\n",
    "\n",
    "\n"
   ]
  },
  {
   "cell_type": "code",
   "execution_count": null,
   "id": "78adedd5-8941-463b-bad2-5bfccf4afff7",
   "metadata": {},
   "outputs": [],
   "source": []
  }
 ],
 "metadata": {
  "kernelspec": {
   "display_name": "Python 3 (ipykernel)",
   "language": "python",
   "name": "python3"
  },
  "language_info": {
   "codemirror_mode": {
    "name": "ipython",
    "version": 3
   },
   "file_extension": ".py",
   "mimetype": "text/x-python",
   "name": "python",
   "nbconvert_exporter": "python",
   "pygments_lexer": "ipython3",
   "version": "3.9.7"
  }
 },
 "nbformat": 4,
 "nbformat_minor": 5
}
